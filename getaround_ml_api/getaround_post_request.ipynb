{
 "cells": [
  {
   "cell_type": "code",
   "execution_count": 6,
   "metadata": {},
   "outputs": [
    {
     "data": {
      "text/plain": [
       "b'{\"Predicted rental price per day in dollars\":188.4}'"
      ]
     },
     "execution_count": 6,
     "metadata": {},
     "output_type": "execute_result"
    }
   ],
   "source": [
    "import requests\n",
    "\n",
    "payload = {\n",
    "    \"model_key\": \"Volkswagen\",  \n",
    "    \"mileage\": 17500,  \n",
    "    \"engine_power\": 190,  \n",
    "    \"fuel\": \"diesel\",  \n",
    "    \"paint_color\": \"black\",  \n",
    "    \"car_type\": \"sedan\",  \n",
    "    \"private_parking_available\": True,  \n",
    "    \"has_gps\": True,  \n",
    "    \"has_air_conditioning\": True,  \n",
    "    \"automatic_car\": True,  \n",
    "    \"has_getaround_connect\": True,  \n",
    "    \"has_speed_regulator\": True,  \n",
    "    \"winter_tires\": True  \n",
    "}\n",
    "\n",
    "r = requests.post(\"http://localhost:4000/predict\", json=payload)\n",
    "\n",
    "r.content"
   ]
  }
 ],
 "metadata": {
  "kernelspec": {
   "display_name": "Python 3",
   "language": "python",
   "name": "python3"
  },
  "language_info": {
   "codemirror_mode": {
    "name": "ipython",
    "version": 3
   },
   "file_extension": ".py",
   "mimetype": "text/x-python",
   "name": "python",
   "nbconvert_exporter": "python",
   "pygments_lexer": "ipython3",
   "version": "3.11.6"
  }
 },
 "nbformat": 4,
 "nbformat_minor": 2
}
